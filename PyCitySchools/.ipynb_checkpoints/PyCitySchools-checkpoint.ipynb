{
 "cells": [
  {
   "cell_type": "markdown",
   "metadata": {},
   "source": [
    "### Note\n",
    "* Instructions have been included for each segment. You do not have to follow them exactly, but they are included to help you think through the steps."
   ]
  },
  {
   "cell_type": "code",
   "execution_count": 1,
   "metadata": {},
   "outputs": [],
   "source": [
    "# Dependencies and Setup\n",
    "import pandas as pd\n",
    "\n",
    "# File to Load (Remember to Change These)\n",
    "school_data_to_load = \"Resources/schools_complete.csv\"\n",
    "student_data_to_load = \"Resources/students_complete.csv\"\n",
    "\n",
    "# Read School and Student Data File and store into Pandas DataFrames\n",
    "school_data = pd.read_csv(school_data_to_load)\n",
    "student_data = pd.read_csv(student_data_to_load)\n",
    "\n",
    "# Combine the data into a single dataset.  \n",
    "school_data_complete = pd.merge(student_data, school_data, how=\"left\", on=[\"school_name\", \"school_name\"])"
   ]
  },
  {
   "cell_type": "code",
   "execution_count": 2,
   "metadata": {},
   "outputs": [
    {
     "data": {
      "text/html": [
       "<div>\n",
       "<style scoped>\n",
       "    .dataframe tbody tr th:only-of-type {\n",
       "        vertical-align: middle;\n",
       "    }\n",
       "\n",
       "    .dataframe tbody tr th {\n",
       "        vertical-align: top;\n",
       "    }\n",
       "\n",
       "    .dataframe thead th {\n",
       "        text-align: right;\n",
       "    }\n",
       "</style>\n",
       "<table border=\"1\" class=\"dataframe\">\n",
       "  <thead>\n",
       "    <tr style=\"text-align: right;\">\n",
       "      <th></th>\n",
       "      <th>Student ID</th>\n",
       "      <th>student_name</th>\n",
       "      <th>gender</th>\n",
       "      <th>grade</th>\n",
       "      <th>school_name</th>\n",
       "      <th>reading_score</th>\n",
       "      <th>math_score</th>\n",
       "      <th>School ID</th>\n",
       "      <th>type</th>\n",
       "      <th>size</th>\n",
       "      <th>budget</th>\n",
       "    </tr>\n",
       "  </thead>\n",
       "  <tbody>\n",
       "    <tr>\n",
       "      <th>0</th>\n",
       "      <td>0</td>\n",
       "      <td>Paul Bradley</td>\n",
       "      <td>M</td>\n",
       "      <td>9th</td>\n",
       "      <td>Huang High School</td>\n",
       "      <td>66</td>\n",
       "      <td>79</td>\n",
       "      <td>0</td>\n",
       "      <td>District</td>\n",
       "      <td>2917</td>\n",
       "      <td>1910635</td>\n",
       "    </tr>\n",
       "    <tr>\n",
       "      <th>1</th>\n",
       "      <td>1</td>\n",
       "      <td>Victor Smith</td>\n",
       "      <td>M</td>\n",
       "      <td>12th</td>\n",
       "      <td>Huang High School</td>\n",
       "      <td>94</td>\n",
       "      <td>61</td>\n",
       "      <td>0</td>\n",
       "      <td>District</td>\n",
       "      <td>2917</td>\n",
       "      <td>1910635</td>\n",
       "    </tr>\n",
       "    <tr>\n",
       "      <th>2</th>\n",
       "      <td>2</td>\n",
       "      <td>Kevin Rodriguez</td>\n",
       "      <td>M</td>\n",
       "      <td>12th</td>\n",
       "      <td>Huang High School</td>\n",
       "      <td>90</td>\n",
       "      <td>60</td>\n",
       "      <td>0</td>\n",
       "      <td>District</td>\n",
       "      <td>2917</td>\n",
       "      <td>1910635</td>\n",
       "    </tr>\n",
       "    <tr>\n",
       "      <th>3</th>\n",
       "      <td>3</td>\n",
       "      <td>Dr. Richard Scott</td>\n",
       "      <td>M</td>\n",
       "      <td>12th</td>\n",
       "      <td>Huang High School</td>\n",
       "      <td>67</td>\n",
       "      <td>58</td>\n",
       "      <td>0</td>\n",
       "      <td>District</td>\n",
       "      <td>2917</td>\n",
       "      <td>1910635</td>\n",
       "    </tr>\n",
       "    <tr>\n",
       "      <th>4</th>\n",
       "      <td>4</td>\n",
       "      <td>Bonnie Ray</td>\n",
       "      <td>F</td>\n",
       "      <td>9th</td>\n",
       "      <td>Huang High School</td>\n",
       "      <td>97</td>\n",
       "      <td>84</td>\n",
       "      <td>0</td>\n",
       "      <td>District</td>\n",
       "      <td>2917</td>\n",
       "      <td>1910635</td>\n",
       "    </tr>\n",
       "  </tbody>\n",
       "</table>\n",
       "</div>"
      ],
      "text/plain": [
       "   Student ID       student_name gender grade        school_name  \\\n",
       "0           0       Paul Bradley      M   9th  Huang High School   \n",
       "1           1       Victor Smith      M  12th  Huang High School   \n",
       "2           2    Kevin Rodriguez      M  12th  Huang High School   \n",
       "3           3  Dr. Richard Scott      M  12th  Huang High School   \n",
       "4           4         Bonnie Ray      F   9th  Huang High School   \n",
       "\n",
       "   reading_score  math_score  School ID      type  size   budget  \n",
       "0             66          79          0  District  2917  1910635  \n",
       "1             94          61          0  District  2917  1910635  \n",
       "2             90          60          0  District  2917  1910635  \n",
       "3             67          58          0  District  2917  1910635  \n",
       "4             97          84          0  District  2917  1910635  "
      ]
     },
     "execution_count": 2,
     "metadata": {},
     "output_type": "execute_result"
    }
   ],
   "source": [
    "#Explore data set\n",
    "school_data_complete.head()"
   ]
  },
  {
   "cell_type": "code",
   "execution_count": 3,
   "metadata": {},
   "outputs": [
    {
     "name": "stdout",
     "output_type": "stream",
     "text": [
      "<class 'pandas.core.frame.DataFrame'>\n",
      "Int64Index: 39170 entries, 0 to 39169\n",
      "Data columns (total 11 columns):\n",
      " #   Column         Non-Null Count  Dtype \n",
      "---  ------         --------------  ----- \n",
      " 0   Student ID     39170 non-null  int64 \n",
      " 1   student_name   39170 non-null  object\n",
      " 2   gender         39170 non-null  object\n",
      " 3   grade          39170 non-null  object\n",
      " 4   school_name    39170 non-null  object\n",
      " 5   reading_score  39170 non-null  int64 \n",
      " 6   math_score     39170 non-null  int64 \n",
      " 7   School ID      39170 non-null  int64 \n",
      " 8   type           39170 non-null  object\n",
      " 9   size           39170 non-null  int64 \n",
      " 10  budget         39170 non-null  int64 \n",
      "dtypes: int64(6), object(5)\n",
      "memory usage: 3.6+ MB\n"
     ]
    }
   ],
   "source": [
    "#explore data set\n",
    "school_data_complete.info()"
   ]
  },
  {
   "cell_type": "code",
   "execution_count": 4,
   "metadata": {},
   "outputs": [
    {
     "data": {
      "text/html": [
       "<div>\n",
       "<style scoped>\n",
       "    .dataframe tbody tr th:only-of-type {\n",
       "        vertical-align: middle;\n",
       "    }\n",
       "\n",
       "    .dataframe tbody tr th {\n",
       "        vertical-align: top;\n",
       "    }\n",
       "\n",
       "    .dataframe thead th {\n",
       "        text-align: right;\n",
       "    }\n",
       "</style>\n",
       "<table border=\"1\" class=\"dataframe\">\n",
       "  <thead>\n",
       "    <tr style=\"text-align: right;\">\n",
       "      <th></th>\n",
       "      <th>Student ID</th>\n",
       "      <th>reading_score</th>\n",
       "      <th>math_score</th>\n",
       "      <th>School ID</th>\n",
       "      <th>size</th>\n",
       "      <th>budget</th>\n",
       "    </tr>\n",
       "  </thead>\n",
       "  <tbody>\n",
       "    <tr>\n",
       "      <th>count</th>\n",
       "      <td>39170.000000</td>\n",
       "      <td>39170.00000</td>\n",
       "      <td>39170.000000</td>\n",
       "      <td>39170.000000</td>\n",
       "      <td>39170.000000</td>\n",
       "      <td>3.917000e+04</td>\n",
       "    </tr>\n",
       "    <tr>\n",
       "      <th>mean</th>\n",
       "      <td>19584.500000</td>\n",
       "      <td>81.87784</td>\n",
       "      <td>78.985371</td>\n",
       "      <td>6.978172</td>\n",
       "      <td>3332.957110</td>\n",
       "      <td>2.117241e+06</td>\n",
       "    </tr>\n",
       "    <tr>\n",
       "      <th>std</th>\n",
       "      <td>11307.549359</td>\n",
       "      <td>10.23958</td>\n",
       "      <td>12.309968</td>\n",
       "      <td>4.444329</td>\n",
       "      <td>1323.914069</td>\n",
       "      <td>8.749987e+05</td>\n",
       "    </tr>\n",
       "    <tr>\n",
       "      <th>min</th>\n",
       "      <td>0.000000</td>\n",
       "      <td>63.00000</td>\n",
       "      <td>55.000000</td>\n",
       "      <td>0.000000</td>\n",
       "      <td>427.000000</td>\n",
       "      <td>2.480870e+05</td>\n",
       "    </tr>\n",
       "    <tr>\n",
       "      <th>25%</th>\n",
       "      <td>9792.250000</td>\n",
       "      <td>73.00000</td>\n",
       "      <td>69.000000</td>\n",
       "      <td>3.000000</td>\n",
       "      <td>1858.000000</td>\n",
       "      <td>1.081356e+06</td>\n",
       "    </tr>\n",
       "    <tr>\n",
       "      <th>50%</th>\n",
       "      <td>19584.500000</td>\n",
       "      <td>82.00000</td>\n",
       "      <td>79.000000</td>\n",
       "      <td>7.000000</td>\n",
       "      <td>2949.000000</td>\n",
       "      <td>1.910635e+06</td>\n",
       "    </tr>\n",
       "    <tr>\n",
       "      <th>75%</th>\n",
       "      <td>29376.750000</td>\n",
       "      <td>91.00000</td>\n",
       "      <td>89.000000</td>\n",
       "      <td>11.000000</td>\n",
       "      <td>4635.000000</td>\n",
       "      <td>3.022020e+06</td>\n",
       "    </tr>\n",
       "    <tr>\n",
       "      <th>max</th>\n",
       "      <td>39169.000000</td>\n",
       "      <td>99.00000</td>\n",
       "      <td>99.000000</td>\n",
       "      <td>14.000000</td>\n",
       "      <td>4976.000000</td>\n",
       "      <td>3.124928e+06</td>\n",
       "    </tr>\n",
       "  </tbody>\n",
       "</table>\n",
       "</div>"
      ],
      "text/plain": [
       "         Student ID  reading_score    math_score     School ID          size  \\\n",
       "count  39170.000000    39170.00000  39170.000000  39170.000000  39170.000000   \n",
       "mean   19584.500000       81.87784     78.985371      6.978172   3332.957110   \n",
       "std    11307.549359       10.23958     12.309968      4.444329   1323.914069   \n",
       "min        0.000000       63.00000     55.000000      0.000000    427.000000   \n",
       "25%     9792.250000       73.00000     69.000000      3.000000   1858.000000   \n",
       "50%    19584.500000       82.00000     79.000000      7.000000   2949.000000   \n",
       "75%    29376.750000       91.00000     89.000000     11.000000   4635.000000   \n",
       "max    39169.000000       99.00000     99.000000     14.000000   4976.000000   \n",
       "\n",
       "             budget  \n",
       "count  3.917000e+04  \n",
       "mean   2.117241e+06  \n",
       "std    8.749987e+05  \n",
       "min    2.480870e+05  \n",
       "25%    1.081356e+06  \n",
       "50%    1.910635e+06  \n",
       "75%    3.022020e+06  \n",
       "max    3.124928e+06  "
      ]
     },
     "execution_count": 4,
     "metadata": {},
     "output_type": "execute_result"
    }
   ],
   "source": [
    "# explore data set\n",
    "school_data_complete.describe()"
   ]
  },
  {
   "cell_type": "code",
   "execution_count": 5,
   "metadata": {},
   "outputs": [
    {
     "name": "stdout",
     "output_type": "stream",
     "text": [
      "    School ID            school_name      type  size   budget\n",
      "0           0      Huang High School  District  2917  1910635\n",
      "1           1   Figueroa High School  District  2949  1884411\n",
      "2           2    Shelton High School   Charter  1761  1056600\n",
      "3           3  Hernandez High School  District  4635  3022020\n",
      "4           4    Griffin High School   Charter  1468   917500\n",
      "5           5     Wilson High School   Charter  2283  1319574\n",
      "6           6    Cabrera High School   Charter  1858  1081356\n",
      "7           7     Bailey High School  District  4976  3124928\n",
      "8           8     Holden High School   Charter   427   248087\n",
      "9           9       Pena High School   Charter   962   585858\n",
      "10         10     Wright High School   Charter  1800  1049400\n",
      "11         11  Rodriguez High School  District  3999  2547363\n",
      "12         12    Johnson High School  District  4761  3094650\n",
      "13         13       Ford High School  District  2739  1763916\n",
      "14         14     Thomas High School   Charter  1635  1043130\n"
     ]
    }
   ],
   "source": [
    "print(school_data)"
   ]
  },
  {
   "cell_type": "markdown",
   "metadata": {},
   "source": [
    "## District Summary\n",
    "\n",
    "* Calculate the total number of schools\n",
    "\n",
    "* Calculate the total number of students\n",
    "\n",
    "* Calculate the total budget\n",
    "\n",
    "* Calculate the average math score \n",
    "\n",
    "* Calculate the average reading score\n",
    "\n",
    "* Calculate the percentage of students with a passing math score (70 or greater)\n",
    "\n",
    "* Calculate the percentage of students with a passing reading score (70 or greater)\n",
    "\n",
    "* Calculate the percentage of students who passed math **and** reading (% Overall Passing)\n",
    "\n",
    "* Create a dataframe to hold the above results\n",
    "\n",
    "* Optional: give the displayed data cleaner formatting"
   ]
  },
  {
   "cell_type": "code",
   "execution_count": 6,
   "metadata": {},
   "outputs": [
    {
     "name": "stdout",
     "output_type": "stream",
     "text": [
      "   Total Number of Schools  Total Number of Students  Total Budget  \\\n",
      "0                       15                     39170      24649428   \n",
      "\n",
      "   Average Math Score  Average Reading Score  Percent Passing Math  \\\n",
      "0           78.985371               81.87784              0.749809   \n",
      "\n",
      "   Percent Passing Reading  Percent Passing Overall  \n",
      "0                 0.858055                 0.651723  \n"
     ]
    }
   ],
   "source": [
    "school_IDs = school_data_complete[\"School ID\"].unique()\n",
    "total_schools = len(school_IDs)\n",
    "\n",
    "student_IDs = school_data_complete[\"Student ID\"].unique()\n",
    "total_students = len(student_IDs)\n",
    "\n",
    "total_budget = school_data[\"budget\"].sum()\n",
    "\n",
    "avg_math = school_data_complete[\"math_score\"].mean()\n",
    "\n",
    "avg_reading = school_data_complete[\"reading_score\"].mean()\n",
    "\n",
    "student_pass_math = school_data_complete[school_data_complete[\"math_score\"]>=70][\"Student ID\"]\n",
    "number_student_pass_math = len(student_pass_math)\n",
    "percent_student_pass_math = number_student_pass_math / total_students\n",
    "\n",
    "student_pass_reading = school_data_complete[school_data_complete[\"reading_score\"]>=70][\"Student ID\"]\n",
    "number_student_pass_reading = len(student_pass_reading)\n",
    "percent_student_pass_reading = number_student_pass_reading / total_students\n",
    "\n",
    "student_pass_overall = school_data_complete[(school_data_complete[\"reading_score\"]>=70) & (school_data_complete[\"math_score\"]>=70)][\"Student ID\"]\n",
    "number_student_pass_overall = len(student_pass_overall)\n",
    "percent_student_pass_overall = number_student_pass_overall / total_students\n",
    "\n",
    "district = pd.DataFrame({\n",
    "    'Total Number of Schools':[total_schools],\n",
    "    'Total Number of Students':[total_students],\n",
    "    'Total Budget':[total_budget],\n",
    "    'Average Math Score':[avg_math],\n",
    "    'Average Reading Score':[avg_reading],\n",
    "    'Percent Passing Math':[percent_student_pass_math],\n",
    "    'Percent Passing Reading':[percent_student_pass_reading],\n",
    "    'Percent Passing Overall':[percent_student_pass_overall]\n",
    "})\n",
    "\n",
    "print(district)"
   ]
  },
  {
   "cell_type": "markdown",
   "metadata": {},
   "source": [
    "## School Summary"
   ]
  },
  {
   "cell_type": "markdown",
   "metadata": {},
   "source": [
    "* Create an overview table that summarizes key metrics about each school, including:\n",
    "  * School Name\n",
    "  * School Type\n",
    "  * Total Students\n",
    "  * Total School Budget\n",
    "  * Per Student Budget\n",
    "  * Average Math Score\n",
    "  * Average Reading Score\n",
    "  * % Passing Math\n",
    "  * % Passing Reading\n",
    "  * % Overall Passing (The percentage of students that passed math **and** reading.)\n",
    "  \n",
    "* Create a dataframe to hold the above results"
   ]
  },
  {
   "cell_type": "code",
   "execution_count": 7,
   "metadata": {},
   "outputs": [
    {
     "name": "stdout",
     "output_type": "stream",
     "text": [
      "                       Total Students School Type  Total School Budget  \\\n",
      "Bailey High School               4976    District              3124928   \n",
      "Johnson High School              4761    District              3094650   \n",
      "Hernandez High School            4635    District              3022020   \n",
      "Rodriguez High School            3999    District              2547363   \n",
      "Figueroa High School             2949    District              1884411   \n",
      "Huang High School                2917    District              1910635   \n",
      "Ford High School                 2739    District              1763916   \n",
      "Wilson High School               2283     Charter              1319574   \n",
      "Cabrera High School              1858     Charter              1081356   \n",
      "Wright High School               1800     Charter              1049400   \n",
      "Shelton High School              1761     Charter              1056600   \n",
      "Thomas High School               1635     Charter              1043130   \n",
      "Griffin High School              1468     Charter               917500   \n",
      "Pena High School                  962     Charter               585858   \n",
      "Holden High School                427     Charter               248087   \n",
      "\n",
      "                       Per Student Budget  % Pass Reading  % Pass Math  \\\n",
      "Bailey High School                  628.0        0.819333     0.666801   \n",
      "Johnson High School                 650.0        0.812224     0.660576   \n",
      "Hernandez High School               652.0        0.808630     0.667530   \n",
      "Rodriguez High School               637.0        0.802201     0.663666   \n",
      "Figueroa High School                639.0        0.807392     0.659885   \n",
      "Huang High School                   655.0        0.813164     0.656839   \n",
      "Ford High School                    644.0        0.792990     0.683096   \n",
      "Wilson High School                  578.0        0.965396     0.938677   \n",
      "Cabrera High School                 582.0        0.970398     0.941335   \n",
      "Wright High School                  583.0        0.966111     0.933333   \n",
      "Shelton High School                 600.0        0.958546     0.938671   \n",
      "Thomas High School                  638.0        0.973089     0.932722   \n",
      "Griffin High School                 625.0        0.971390     0.933924   \n",
      "Pena High School                    609.0        0.959459     0.945946   \n",
      "Holden High School                  581.0        0.962529     0.925059   \n",
      "\n",
      "                       % Pass Overall  \n",
      "Bailey High School           0.546423  \n",
      "Johnson High School          0.535392  \n",
      "Hernandez High School        0.535275  \n",
      "Rodriguez High School        0.529882  \n",
      "Figueroa High School         0.532045  \n",
      "Huang High School            0.535139  \n",
      "Ford High School             0.542899  \n",
      "Wilson High School           0.905826  \n",
      "Cabrera High School          0.913348  \n",
      "Wright High School           0.903333  \n",
      "Shelton High School          0.898921  \n",
      "Thomas High School           0.909480  \n",
      "Griffin High School          0.905995  \n",
      "Pena High School             0.905405  \n",
      "Holden High School           0.892272  \n"
     ]
    }
   ],
   "source": [
    "# find school type and budget by school\n",
    "#school_budget = school_data_complete.groupby(\"school_name\")[\"budget\"].mean()\n",
    "#school_type = school_data_complete.groupby(\"school_name\")[\"type\"].min()\n",
    "school_budget = school_data_complete.groupby(\"school_name\")[\"budget\"].first()\n",
    "school_type = school_data_complete.groupby(\"school_name\")[\"type\"].first()\n",
    "\n",
    "# find total number of students for each school\n",
    "school_students = school_data_complete[\"school_name\"].value_counts()\n",
    "\n",
    "# find reading and math scores by school\n",
    "school_marks= school_data_complete.groupby(\"school_name\")[[\"reading_score\",\"math_score\"]].mean()\n",
    "\n",
    "# find number passing for each school\n",
    "# the same approach is used for these next 3 calcs, but the count is on different columns\n",
    "# so as to give a different column name and make it easier to\n",
    "# rename the columns later\n",
    "school_pass_read= school_data_complete[school_data_complete[\"reading_score\"]>=70].groupby(\"school_name\")[\"student_name\"].count()\n",
    "school_pass_math= school_data_complete[school_data_complete[\"math_score\"]>=70].groupby(\"school_name\")[\"School ID\"].count()\n",
    "school_pass_overall= school_data_complete[(school_data_complete[\"reading_score\"]>=70) & (school_data_complete[\"math_score\"]>=70)].groupby(\"school_name\")[\"Student ID\"].count()\n",
    "\n",
    "# Combine the data into a single dataset.  \n",
    "summary = pd.concat([school_students, school_type, school_budget, school_marks, school_pass_read, school_pass_math, school_pass_overall], axis=1)\n",
    "\n",
    "# rename columns\n",
    "summary_rename = summary.rename(columns={\n",
    "    \"school_name\":\"Total Students\", \n",
    "    \"type\":\"School Type\",\n",
    "    \"budget\":\"Total School Budget\",\n",
    "    \"reading_score\":'Average Reading Score', \n",
    "    \"math_score\":\"Average Math Score\",\n",
    "    \"student_name\":\"Total Pass Reading\",\n",
    "    \"School ID\":\"Total Pass Math\",\n",
    "    \"Student ID\":\"Total Pass Overall\"})\n",
    "\n",
    "# add calculated columns\n",
    "summary_rename[\"% Pass Reading\"]=summary_rename[\"Total Pass Reading\"]/summary_rename[\"Total Students\"]\n",
    "summary_rename[\"% Pass Math\"]=summary_rename[\"Total Pass Math\"]/summary_rename[\"Total Students\"]\n",
    "summary_rename[\"% Pass Overall\"]=summary_rename[\"Total Pass Overall\"]/summary_rename[\"Total Students\"]\n",
    "summary_rename[\"Per Student Budget\"]=summary_rename[\"Total School Budget\"]/summary_rename[\"Total Students\"]\n",
    "                                                    \n",
    "# reorder columns\n",
    "summary_reorder = summary_rename[[\"Total Students\", \"School Type\", \"Total School Budget\", \"Per Student Budget\", \"% Pass Reading\", \"% Pass Math\", \"% Pass Overall\"]]\n",
    "\n",
    "print(summary_reorder)\n",
    "\n",
    "\n",
    "\n",
    "\n"
   ]
  },
  {
   "cell_type": "markdown",
   "metadata": {},
   "source": [
    "## Top Performing Schools (By % Overall Passing)"
   ]
  },
  {
   "cell_type": "markdown",
   "metadata": {},
   "source": [
    "* Sort and display the top five performing schools by % overall passing."
   ]
  },
  {
   "cell_type": "code",
   "execution_count": 8,
   "metadata": {
    "scrolled": true
   },
   "outputs": [
    {
     "name": "stdout",
     "output_type": "stream",
     "text": [
      "                     Total Students School Type  Total School Budget  \\\n",
      "Cabrera High School            1858     Charter              1081356   \n",
      "Thomas High School             1635     Charter              1043130   \n",
      "Griffin High School            1468     Charter               917500   \n",
      "Wilson High School             2283     Charter              1319574   \n",
      "Pena High School                962     Charter               585858   \n",
      "\n",
      "                     Per Student Budget  % Pass Reading  % Pass Math  \\\n",
      "Cabrera High School               582.0        0.970398     0.941335   \n",
      "Thomas High School                638.0        0.973089     0.932722   \n",
      "Griffin High School               625.0        0.971390     0.933924   \n",
      "Wilson High School                578.0        0.965396     0.938677   \n",
      "Pena High School                  609.0        0.959459     0.945946   \n",
      "\n",
      "                     % Pass Overall  \n",
      "Cabrera High School        0.913348  \n",
      "Thomas High School         0.909480  \n",
      "Griffin High School        0.905995  \n",
      "Wilson High School         0.905826  \n",
      "Pena High School           0.905405  \n"
     ]
    }
   ],
   "source": [
    "top_schools = summary_reorder.sort_values(\"% Pass Overall\", ascending = False)\n",
    "print(top_schools.head(5))"
   ]
  },
  {
   "cell_type": "markdown",
   "metadata": {},
   "source": [
    "## Bottom Performing Schools (By % Overall Passing)"
   ]
  },
  {
   "cell_type": "markdown",
   "metadata": {},
   "source": [
    "* Sort and display the five worst-performing schools by % overall passing."
   ]
  },
  {
   "cell_type": "code",
   "execution_count": 9,
   "metadata": {},
   "outputs": [
    {
     "name": "stdout",
     "output_type": "stream",
     "text": [
      "                       Total Students School Type  Total School Budget  \\\n",
      "Rodriguez High School            3999    District              2547363   \n",
      "Figueroa High School             2949    District              1884411   \n",
      "Huang High School                2917    District              1910635   \n",
      "Hernandez High School            4635    District              3022020   \n",
      "Johnson High School              4761    District              3094650   \n",
      "\n",
      "                       Per Student Budget  % Pass Reading  % Pass Math  \\\n",
      "Rodriguez High School               637.0        0.802201     0.663666   \n",
      "Figueroa High School                639.0        0.807392     0.659885   \n",
      "Huang High School                   655.0        0.813164     0.656839   \n",
      "Hernandez High School               652.0        0.808630     0.667530   \n",
      "Johnson High School                 650.0        0.812224     0.660576   \n",
      "\n",
      "                       % Pass Overall  \n",
      "Rodriguez High School        0.529882  \n",
      "Figueroa High School         0.532045  \n",
      "Huang High School            0.535139  \n",
      "Hernandez High School        0.535275  \n",
      "Johnson High School          0.535392  \n"
     ]
    }
   ],
   "source": [
    "bottom_schools = summary_reorder.sort_values(\"% Pass Overall\", ascending = True)\n",
    "print(bottom_schools.head(5))"
   ]
  },
  {
   "cell_type": "markdown",
   "metadata": {
    "collapsed": true
   },
   "source": [
    "## Math Scores by Grade"
   ]
  },
  {
   "cell_type": "markdown",
   "metadata": {},
   "source": [
    "* Create a table that lists the average Reading Score for students of each grade level (9th, 10th, 11th, 12th) at each school.\n",
    "\n",
    "  * Create a pandas series for each grade. Hint: use a conditional statement.\n",
    "  \n",
    "  * Group each series by school\n",
    "  \n",
    "  * Combine the series into a dataframe\n",
    "  \n",
    "  * Optional: give the displayed data cleaner formatting"
   ]
  },
  {
   "cell_type": "code",
   "execution_count": 23,
   "metadata": {},
   "outputs": [
    {
     "name": "stdout",
     "output_type": "stream",
     "text": [
      "                         Grade 9   Grade 10   Grade 11   Grade 12\n",
      "school_name                                                      \n",
      "Bailey High School     81.303155  81.303155  81.303155  81.303155\n",
      "Cabrera High School    83.676136  83.676136  83.676136  83.676136\n",
      "Figueroa High School   81.198598  81.198598  81.198598  81.198598\n",
      "Ford High School       80.632653  80.632653  80.632653  80.632653\n",
      "Griffin High School    83.369193  83.369193  83.369193  83.369193\n",
      "Hernandez High School  80.866860  80.866860  80.866860  80.866860\n",
      "Holden High School     83.677165  83.677165  83.677165  83.677165\n",
      "Huang High School      81.290284  81.290284  81.290284  81.290284\n",
      "Johnson High School    81.260714  81.260714  81.260714  81.260714\n",
      "Pena High School       83.807273  83.807273  83.807273  83.807273\n",
      "Rodriguez High School  80.993127  80.993127  80.993127  80.993127\n",
      "Shelton High School    84.122642  84.122642  84.122642  84.122642\n",
      "Thomas High School     83.728850  83.728850  83.728850  83.728850\n",
      "Wilson High School     83.939778  83.939778  83.939778  83.939778\n",
      "Wright High School     83.833333  83.833333  83.833333  83.833333\n"
     ]
    }
   ],
   "source": [
    "# Filter data for grade 9, groupby school, \n",
    "# convert to a dataframe so that the column can be renamed\n",
    "grade_9_rdata = school_data_complete[school_data_complete[\"grade\"]==\"9th\"].groupby(\"school_name\")[\"reading_score\"].mean()\n",
    "grade_9_rdf = pd.DataFrame(grade_9_rdata)\n",
    "grade_9_read = grade_9_rdf.rename(columns = ({\"reading_score\":\"Grade 9\"}))\n",
    "\n",
    "# repeat for grade 10\n",
    "grade_10_rdata = school_data_complete[school_data_complete[\"grade\"]==\"10th\"].groupby(\"school_name\")[\"reading_score\"].mean()\n",
    "grade_10_rdf = pd.DataFrame(grade_9_rdata)\n",
    "grade_10_read = grade_10_rdf.rename(columns = ({\"reading_score\":\"Grade 10\"}))\n",
    "\n",
    "# repeat for grade 10\n",
    "grade_11_rdata = school_data_complete[school_data_complete[\"grade\"]==\"11th\"].groupby(\"school_name\")[\"reading_score\"].mean()\n",
    "grade_11_rdf = pd.DataFrame(grade_9_rdata)\n",
    "grade_11_read = grade_11_rdf.rename(columns = ({\"reading_score\":\"Grade 11\"}))\n",
    "\n",
    "# repeat for grade 10\n",
    "grade_12_rdata = school_data_complete[school_data_complete[\"grade\"]==\"12th\"].groupby(\"school_name\")[\"reading_score\"].mean()\n",
    "grade_12_rdf = pd.DataFrame(grade_9_rdata)\n",
    "grade_12_read = grade_12_rdf.rename(columns = ({\"reading_score\":\"Grade 12\"}))\n",
    "\n",
    "# join data frames together\n",
    "reading_by_grade = pd.concat([grade_9_read, grade_10_read, grade_11_read, grade_12_read], axis = 1)\n",
    "\n",
    "print(reading_by_grade)"
   ]
  },
  {
   "cell_type": "markdown",
   "metadata": {},
   "source": [
    "## Reading Score by Grade "
   ]
  },
  {
   "cell_type": "markdown",
   "metadata": {},
   "source": [
    "* Perform the same operations as above for reading scores"
   ]
  },
  {
   "cell_type": "code",
   "execution_count": 24,
   "metadata": {},
   "outputs": [
    {
     "name": "stdout",
     "output_type": "stream",
     "text": [
      "                         Grade 9   Grade 10   Grade 11   Grade 12\n",
      "school_name                                                      \n",
      "Bailey High School     81.303155  81.303155  81.303155  81.303155\n",
      "Cabrera High School    83.676136  83.676136  83.676136  83.676136\n",
      "Figueroa High School   81.198598  81.198598  81.198598  81.198598\n",
      "Ford High School       80.632653  80.632653  80.632653  80.632653\n",
      "Griffin High School    83.369193  83.369193  83.369193  83.369193\n",
      "Hernandez High School  80.866860  80.866860  80.866860  80.866860\n",
      "Holden High School     83.677165  83.677165  83.677165  83.677165\n",
      "Huang High School      81.290284  81.290284  81.290284  81.290284\n",
      "Johnson High School    81.260714  81.260714  81.260714  81.260714\n",
      "Pena High School       83.807273  83.807273  83.807273  83.807273\n",
      "Rodriguez High School  80.993127  80.993127  80.993127  80.993127\n",
      "Shelton High School    84.122642  84.122642  84.122642  84.122642\n",
      "Thomas High School     83.728850  83.728850  83.728850  83.728850\n",
      "Wilson High School     83.939778  83.939778  83.939778  83.939778\n",
      "Wright High School     83.833333  83.833333  83.833333  83.833333\n"
     ]
    }
   ],
   "source": [
    "# Filter data for grade 9, groupby school, \n",
    "# convert to a dataframe so that the column can be renamed\n",
    "grade_9_rdata = school_data_complete[school_data_complete[\"grade\"]==\"9th\"].groupby(\"school_name\")[\"reading_score\"].mean()\n",
    "grade_9_rdf = pd.DataFrame(grade_9_rdata)\n",
    "grade_9_read = grade_9_rdf.rename(columns = ({\"reading_score\":\"Grade 9\"}))\n",
    "\n",
    "# repeat for grade 10\n",
    "grade_10_rdata = school_data_complete[school_data_complete[\"grade\"]==\"10th\"].groupby(\"school_name\")[\"reading_score\"].mean()\n",
    "grade_10_rdf = pd.DataFrame(grade_9_rdata)\n",
    "grade_10_read = grade_10_rdf.rename(columns = ({\"reading_score\":\"Grade 10\"}))\n",
    "\n",
    "# repeat for grade 10\n",
    "grade_11_rdata = school_data_complete[school_data_complete[\"grade\"]==\"11th\"].groupby(\"school_name\")[\"reading_score\"].mean()\n",
    "grade_11_rdf = pd.DataFrame(grade_9_rdata)\n",
    "grade_11_read = grade_11_rdf.rename(columns = ({\"reading_score\":\"Grade 11\"}))\n",
    "\n",
    "# repeat for grade 10\n",
    "grade_12_rdata = school_data_complete[school_data_complete[\"grade\"]==\"12th\"].groupby(\"school_name\")[\"reading_score\"].mean()\n",
    "grade_12_rdf = pd.DataFrame(grade_9_rdata)\n",
    "grade_12_read = grade_12_rdf.rename(columns = ({\"reading_score\":\"Grade 12\"}))\n",
    "\n",
    "# join data frames together\n",
    "reading_by_grade = pd.concat([grade_9_read, grade_10_read, grade_11_read, grade_12_read], axis = 1)\n",
    "\n",
    "print(reading_by_grade)"
   ]
  },
  {
   "cell_type": "markdown",
   "metadata": {},
   "source": [
    "## Scores by School Spending"
   ]
  },
  {
   "cell_type": "markdown",
   "metadata": {},
   "source": [
    "* Create a table that breaks down school performances based on average Spending Ranges (Per Student). Use 4 reasonable bins to group school spending. Include in the table each of the following:\n",
    "  * Average Math Score\n",
    "  * Average Reading Score\n",
    "  * % Passing Math\n",
    "  * % Passing Reading\n",
    "  * Overall Passing Rate (Average of the above two)"
   ]
  },
  {
   "cell_type": "code",
   "execution_count": null,
   "metadata": {},
   "outputs": [],
   "source": []
  },
  {
   "cell_type": "markdown",
   "metadata": {},
   "source": [
    "## Scores by School Size"
   ]
  },
  {
   "cell_type": "markdown",
   "metadata": {},
   "source": [
    "* Perform the same operations as above, based on school size."
   ]
  },
  {
   "cell_type": "code",
   "execution_count": null,
   "metadata": {
    "scrolled": true
   },
   "outputs": [],
   "source": []
  },
  {
   "cell_type": "markdown",
   "metadata": {},
   "source": [
    "## Scores by School Type"
   ]
  },
  {
   "cell_type": "markdown",
   "metadata": {},
   "source": [
    "* Perform the same operations as above, based on school type"
   ]
  },
  {
   "cell_type": "code",
   "execution_count": null,
   "metadata": {},
   "outputs": [],
   "source": []
  },
  {
   "cell_type": "code",
   "execution_count": null,
   "metadata": {},
   "outputs": [],
   "source": []
  }
 ],
 "metadata": {
  "anaconda-cloud": {},
  "interpreter": {
   "hash": "2cb9b7d5b68f4bfebe37bd14371b74a26c7634c91bad2bd7203be20ef753368a"
  },
  "kernel_info": {
   "name": "python3"
  },
  "kernelspec": {
   "display_name": "Python 3",
   "language": "python",
   "name": "python3"
  },
  "language_info": {
   "codemirror_mode": {
    "name": "ipython",
    "version": 3
   },
   "file_extension": ".py",
   "mimetype": "text/x-python",
   "name": "python",
   "nbconvert_exporter": "python",
   "pygments_lexer": "ipython3",
   "version": "3.6.10"
  },
  "latex_envs": {
   "LaTeX_envs_menu_present": true,
   "autoclose": false,
   "autocomplete": true,
   "bibliofile": "biblio.bib",
   "cite_by": "apalike",
   "current_citInitial": 1,
   "eqLabelWithNumbers": true,
   "eqNumInitial": 1,
   "hotkeys": {
    "equation": "Ctrl-E",
    "itemize": "Ctrl-I"
   },
   "labels_anchors": false,
   "latex_user_defs": false,
   "report_style_numbering": false,
   "user_envs_cfg": false
  },
  "nteract": {
   "version": "0.8.4"
  }
 },
 "nbformat": 4,
 "nbformat_minor": 1
}
